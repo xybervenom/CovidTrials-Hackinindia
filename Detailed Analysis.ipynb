{
 "cells": [
  {
   "cell_type": "markdown",
   "metadata": {},
   "source": [
    "# Importing and Reading"
   ]
  },
  {
   "cell_type": "code",
   "execution_count": 1,
   "metadata": {
    "ExecuteTime": {
     "end_time": "2020-07-21T10:33:48.555425Z",
     "start_time": "2020-07-21T10:32:56.944806Z"
    }
   },
   "outputs": [],
   "source": [
    "#Modules used- pandas,numpy,seaborn,matplotlib,sklearn\n",
    "import pandas as pd\n",
    "import numpy as np\n",
    "import seaborn as sns\n",
    "import matplotlib.pyplot as plt\n",
    "from sklearn.metrics import confusion_matrix\n",
    "%matplotlib inline\n",
    "import warnings\n",
    "warnings.filterwarnings('ignore')\n",
    "# pandas defaults\n",
    "pd.options.display.max_columns = 500\n",
    "pd.options.display.max_rows = 500"
   ]
  },
  {
   "cell_type": "code",
   "execution_count": 2,
   "metadata": {
    "ExecuteTime": {
     "end_time": "2020-07-21T10:33:50.554455Z",
     "start_time": "2020-07-21T10:33:48.559414Z"
    }
   },
   "outputs": [
    {
     "data": {
      "text/html": [
       "<div>\n",
       "<style scoped>\n",
       "    .dataframe tbody tr th:only-of-type {\n",
       "        vertical-align: middle;\n",
       "    }\n",
       "\n",
       "    .dataframe tbody tr th {\n",
       "        vertical-align: top;\n",
       "    }\n",
       "\n",
       "    .dataframe thead th {\n",
       "        text-align: right;\n",
       "    }\n",
       "</style>\n",
       "<table border=\"1\" class=\"dataframe\">\n",
       "  <thead>\n",
       "    <tr style=\"text-align: right;\">\n",
       "      <th></th>\n",
       "      <th>age</th>\n",
       "      <th>sex</th>\n",
       "      <th>WBC</th>\n",
       "      <th>NEUT</th>\n",
       "      <th>NEUT#</th>\n",
       "      <th>LYM</th>\n",
       "      <th>LYM#</th>\n",
       "      <th>CD3+ T cells (%)</th>\n",
       "      <th>CD3+CD4+ cells (%)</th>\n",
       "      <th>CD3+CD8+ cells (%)</th>\n",
       "      <th>CD4+/CD8+ ratio</th>\n",
       "      <th>CRP, mg/L</th>\n",
       "      <th>PCT, ng/Ml</th>\n",
       "      <th>pCO2, mm Hg</th>\n",
       "      <th>pO2, mm Hg</th>\n",
       "      <th>SO2 (%)</th>\n",
       "      <th>LDH, U/L</th>\n",
       "      <th>Fib, g/L</th>\n",
       "      <th>D‐D, ug/mL</th>\n",
       "      <th>result</th>\n",
       "    </tr>\n",
       "  </thead>\n",
       "  <tbody>\n",
       "    <tr>\n",
       "      <th>0</th>\n",
       "      <td>13</td>\n",
       "      <td>1</td>\n",
       "      <td>6.7</td>\n",
       "      <td>49.60</td>\n",
       "      <td>3.30</td>\n",
       "      <td>39.70</td>\n",
       "      <td>2.70</td>\n",
       "      <td>76.50</td>\n",
       "      <td>29.70</td>\n",
       "      <td>38.80</td>\n",
       "      <td>0.77</td>\n",
       "      <td>0.11</td>\n",
       "      <td>0.10</td>\n",
       "      <td>33.30</td>\n",
       "      <td>84.25</td>\n",
       "      <td>88.3</td>\n",
       "      <td>186</td>\n",
       "      <td>2.80</td>\n",
       "      <td>0.300</td>\n",
       "      <td>0</td>\n",
       "    </tr>\n",
       "    <tr>\n",
       "      <th>1</th>\n",
       "      <td>14</td>\n",
       "      <td>1</td>\n",
       "      <td>5.2</td>\n",
       "      <td>58.20</td>\n",
       "      <td>3.00</td>\n",
       "      <td>26.00</td>\n",
       "      <td>1.40</td>\n",
       "      <td>48.90</td>\n",
       "      <td>31.40</td>\n",
       "      <td>15.83</td>\n",
       "      <td>1.96</td>\n",
       "      <td>5.10</td>\n",
       "      <td>0.18</td>\n",
       "      <td>29.12</td>\n",
       "      <td>99.00</td>\n",
       "      <td>95.0</td>\n",
       "      <td>147</td>\n",
       "      <td>4.32</td>\n",
       "      <td>0.520</td>\n",
       "      <td>1</td>\n",
       "    </tr>\n",
       "    <tr>\n",
       "      <th>2</th>\n",
       "      <td>15</td>\n",
       "      <td>1</td>\n",
       "      <td>5.7</td>\n",
       "      <td>66.81</td>\n",
       "      <td>3.99</td>\n",
       "      <td>23.77</td>\n",
       "      <td>1.27</td>\n",
       "      <td>75.56</td>\n",
       "      <td>44.16</td>\n",
       "      <td>26.40</td>\n",
       "      <td>1.73</td>\n",
       "      <td>3.81</td>\n",
       "      <td>0.10</td>\n",
       "      <td>33.30</td>\n",
       "      <td>84.25</td>\n",
       "      <td>88.3</td>\n",
       "      <td>186</td>\n",
       "      <td>3.65</td>\n",
       "      <td>0.701</td>\n",
       "      <td>0</td>\n",
       "    </tr>\n",
       "    <tr>\n",
       "      <th>3</th>\n",
       "      <td>24</td>\n",
       "      <td>2</td>\n",
       "      <td>2.3</td>\n",
       "      <td>55.50</td>\n",
       "      <td>1.30</td>\n",
       "      <td>31.50</td>\n",
       "      <td>0.80</td>\n",
       "      <td>76.30</td>\n",
       "      <td>36.30</td>\n",
       "      <td>31.50</td>\n",
       "      <td>1.15</td>\n",
       "      <td>2.10</td>\n",
       "      <td>0.10</td>\n",
       "      <td>33.30</td>\n",
       "      <td>84.25</td>\n",
       "      <td>88.3</td>\n",
       "      <td>186</td>\n",
       "      <td>3.39</td>\n",
       "      <td>0.280</td>\n",
       "      <td>0</td>\n",
       "    </tr>\n",
       "    <tr>\n",
       "      <th>4</th>\n",
       "      <td>25</td>\n",
       "      <td>2</td>\n",
       "      <td>2.3</td>\n",
       "      <td>59.90</td>\n",
       "      <td>1.40</td>\n",
       "      <td>28.80</td>\n",
       "      <td>0.80</td>\n",
       "      <td>48.90</td>\n",
       "      <td>31.40</td>\n",
       "      <td>15.83</td>\n",
       "      <td>1.96</td>\n",
       "      <td>1.80</td>\n",
       "      <td>0.02</td>\n",
       "      <td>31.90</td>\n",
       "      <td>127.00</td>\n",
       "      <td>98.7</td>\n",
       "      <td>140</td>\n",
       "      <td>2.98</td>\n",
       "      <td>0.330</td>\n",
       "      <td>1</td>\n",
       "    </tr>\n",
       "    <tr>\n",
       "      <th>5</th>\n",
       "      <td>26</td>\n",
       "      <td>2</td>\n",
       "      <td>2.7</td>\n",
       "      <td>57.90</td>\n",
       "      <td>1.60</td>\n",
       "      <td>31.90</td>\n",
       "      <td>0.90</td>\n",
       "      <td>78.20</td>\n",
       "      <td>39.10</td>\n",
       "      <td>32.00</td>\n",
       "      <td>1.22</td>\n",
       "      <td>0.80</td>\n",
       "      <td>0.04</td>\n",
       "      <td>33.30</td>\n",
       "      <td>84.25</td>\n",
       "      <td>88.3</td>\n",
       "      <td>122</td>\n",
       "      <td>3.65</td>\n",
       "      <td>0.701</td>\n",
       "      <td>0</td>\n",
       "    </tr>\n",
       "    <tr>\n",
       "      <th>6</th>\n",
       "      <td>27</td>\n",
       "      <td>1</td>\n",
       "      <td>5.3</td>\n",
       "      <td>58.40</td>\n",
       "      <td>3.10</td>\n",
       "      <td>30.00</td>\n",
       "      <td>1.60</td>\n",
       "      <td>75.56</td>\n",
       "      <td>44.16</td>\n",
       "      <td>26.40</td>\n",
       "      <td>1.73</td>\n",
       "      <td>3.81</td>\n",
       "      <td>0.15</td>\n",
       "      <td>33.30</td>\n",
       "      <td>84.25</td>\n",
       "      <td>88.3</td>\n",
       "      <td>186</td>\n",
       "      <td>4.30</td>\n",
       "      <td>0.200</td>\n",
       "      <td>0</td>\n",
       "    </tr>\n",
       "    <tr>\n",
       "      <th>7</th>\n",
       "      <td>28</td>\n",
       "      <td>1</td>\n",
       "      <td>3.9</td>\n",
       "      <td>70.00</td>\n",
       "      <td>2.70</td>\n",
       "      <td>20.40</td>\n",
       "      <td>0.80</td>\n",
       "      <td>48.90</td>\n",
       "      <td>31.40</td>\n",
       "      <td>15.83</td>\n",
       "      <td>1.96</td>\n",
       "      <td>3.30</td>\n",
       "      <td>0.10</td>\n",
       "      <td>29.12</td>\n",
       "      <td>99.00</td>\n",
       "      <td>95.0</td>\n",
       "      <td>222</td>\n",
       "      <td>2.66</td>\n",
       "      <td>0.190</td>\n",
       "      <td>1</td>\n",
       "    </tr>\n",
       "    <tr>\n",
       "      <th>8</th>\n",
       "      <td>29</td>\n",
       "      <td>1</td>\n",
       "      <td>4.7</td>\n",
       "      <td>43.70</td>\n",
       "      <td>2.10</td>\n",
       "      <td>28.90</td>\n",
       "      <td>1.40</td>\n",
       "      <td>74.70</td>\n",
       "      <td>35.00</td>\n",
       "      <td>35.20</td>\n",
       "      <td>0.99</td>\n",
       "      <td>2.53</td>\n",
       "      <td>0.10</td>\n",
       "      <td>33.30</td>\n",
       "      <td>84.25</td>\n",
       "      <td>88.3</td>\n",
       "      <td>185</td>\n",
       "      <td>3.65</td>\n",
       "      <td>0.701</td>\n",
       "      <td>0</td>\n",
       "    </tr>\n",
       "    <tr>\n",
       "      <th>9</th>\n",
       "      <td>46</td>\n",
       "      <td>1</td>\n",
       "      <td>9.2</td>\n",
       "      <td>80.40</td>\n",
       "      <td>7.40</td>\n",
       "      <td>11.60</td>\n",
       "      <td>1.10</td>\n",
       "      <td>75.56</td>\n",
       "      <td>44.16</td>\n",
       "      <td>26.40</td>\n",
       "      <td>1.73</td>\n",
       "      <td>3.81</td>\n",
       "      <td>0.12</td>\n",
       "      <td>33.30</td>\n",
       "      <td>84.25</td>\n",
       "      <td>88.3</td>\n",
       "      <td>186</td>\n",
       "      <td>3.00</td>\n",
       "      <td>0.470</td>\n",
       "      <td>0</td>\n",
       "    </tr>\n",
       "    <tr>\n",
       "      <th>10</th>\n",
       "      <td>47</td>\n",
       "      <td>1</td>\n",
       "      <td>9.4</td>\n",
       "      <td>88.10</td>\n",
       "      <td>8.30</td>\n",
       "      <td>4.80</td>\n",
       "      <td>0.50</td>\n",
       "      <td>75.56</td>\n",
       "      <td>44.16</td>\n",
       "      <td>26.40</td>\n",
       "      <td>1.73</td>\n",
       "      <td>5.40</td>\n",
       "      <td>0.10</td>\n",
       "      <td>25.90</td>\n",
       "      <td>88.00</td>\n",
       "      <td>97.7</td>\n",
       "      <td>204</td>\n",
       "      <td>5.20</td>\n",
       "      <td>0.300</td>\n",
       "      <td>0</td>\n",
       "    </tr>\n",
       "    <tr>\n",
       "      <th>11</th>\n",
       "      <td>48</td>\n",
       "      <td>1</td>\n",
       "      <td>9.6</td>\n",
       "      <td>71.00</td>\n",
       "      <td>4.21</td>\n",
       "      <td>10.90</td>\n",
       "      <td>1.00</td>\n",
       "      <td>48.90</td>\n",
       "      <td>31.40</td>\n",
       "      <td>15.83</td>\n",
       "      <td>1.96</td>\n",
       "      <td>8.40</td>\n",
       "      <td>0.24</td>\n",
       "      <td>31.50</td>\n",
       "      <td>153.00</td>\n",
       "      <td>91.2</td>\n",
       "      <td>230</td>\n",
       "      <td>7.90</td>\n",
       "      <td>0.200</td>\n",
       "      <td>1</td>\n",
       "    </tr>\n",
       "    <tr>\n",
       "      <th>12</th>\n",
       "      <td>49</td>\n",
       "      <td>0</td>\n",
       "      <td>6.9</td>\n",
       "      <td>65.10</td>\n",
       "      <td>4.50</td>\n",
       "      <td>23.00</td>\n",
       "      <td>1.60</td>\n",
       "      <td>68.90</td>\n",
       "      <td>34.50</td>\n",
       "      <td>19.40</td>\n",
       "      <td>1.78</td>\n",
       "      <td>3.81</td>\n",
       "      <td>0.10</td>\n",
       "      <td>33.30</td>\n",
       "      <td>84.25</td>\n",
       "      <td>88.3</td>\n",
       "      <td>119</td>\n",
       "      <td>3.65</td>\n",
       "      <td>0.701</td>\n",
       "      <td>0</td>\n",
       "    </tr>\n",
       "    <tr>\n",
       "      <th>13</th>\n",
       "      <td>50</td>\n",
       "      <td>0</td>\n",
       "      <td>7.1</td>\n",
       "      <td>85.00</td>\n",
       "      <td>6.00</td>\n",
       "      <td>8.30</td>\n",
       "      <td>0.60</td>\n",
       "      <td>75.56</td>\n",
       "      <td>44.16</td>\n",
       "      <td>26.40</td>\n",
       "      <td>1.73</td>\n",
       "      <td>6.10</td>\n",
       "      <td>0.07</td>\n",
       "      <td>28.70</td>\n",
       "      <td>66.20</td>\n",
       "      <td>93.5</td>\n",
       "      <td>206</td>\n",
       "      <td>3.65</td>\n",
       "      <td>0.701</td>\n",
       "      <td>0</td>\n",
       "    </tr>\n",
       "    <tr>\n",
       "      <th>14</th>\n",
       "      <td>51</td>\n",
       "      <td>0</td>\n",
       "      <td>4.3</td>\n",
       "      <td>57.00</td>\n",
       "      <td>2.40</td>\n",
       "      <td>30.50</td>\n",
       "      <td>1.30</td>\n",
       "      <td>48.90</td>\n",
       "      <td>31.40</td>\n",
       "      <td>15.83</td>\n",
       "      <td>1.96</td>\n",
       "      <td>1.20</td>\n",
       "      <td>0.40</td>\n",
       "      <td>29.12</td>\n",
       "      <td>99.00</td>\n",
       "      <td>95.0</td>\n",
       "      <td>156</td>\n",
       "      <td>3.50</td>\n",
       "      <td>0.650</td>\n",
       "      <td>1</td>\n",
       "    </tr>\n",
       "    <tr>\n",
       "      <th>15</th>\n",
       "      <td>51</td>\n",
       "      <td>0</td>\n",
       "      <td>5.4</td>\n",
       "      <td>77.70</td>\n",
       "      <td>4.20</td>\n",
       "      <td>15.90</td>\n",
       "      <td>0.90</td>\n",
       "      <td>80.00</td>\n",
       "      <td>51.30</td>\n",
       "      <td>26.10</td>\n",
       "      <td>1.97</td>\n",
       "      <td>11.02</td>\n",
       "      <td>0.14</td>\n",
       "      <td>26.60</td>\n",
       "      <td>67.90</td>\n",
       "      <td>95.8</td>\n",
       "      <td>305</td>\n",
       "      <td>6.04</td>\n",
       "      <td>0.620</td>\n",
       "      <td>1</td>\n",
       "    </tr>\n",
       "    <tr>\n",
       "      <th>16</th>\n",
       "      <td>52</td>\n",
       "      <td>1</td>\n",
       "      <td>3.8</td>\n",
       "      <td>56.50</td>\n",
       "      <td>2.20</td>\n",
       "      <td>32.70</td>\n",
       "      <td>1.30</td>\n",
       "      <td>48.90</td>\n",
       "      <td>31.40</td>\n",
       "      <td>15.83</td>\n",
       "      <td>1.96</td>\n",
       "      <td>5.20</td>\n",
       "      <td>0.18</td>\n",
       "      <td>29.12</td>\n",
       "      <td>99.00</td>\n",
       "      <td>95.0</td>\n",
       "      <td>243</td>\n",
       "      <td>4.85</td>\n",
       "      <td>0.200</td>\n",
       "      <td>1</td>\n",
       "    </tr>\n",
       "    <tr>\n",
       "      <th>17</th>\n",
       "      <td>52</td>\n",
       "      <td>0</td>\n",
       "      <td>5.9</td>\n",
       "      <td>66.40</td>\n",
       "      <td>3.90</td>\n",
       "      <td>24.80</td>\n",
       "      <td>1.50</td>\n",
       "      <td>75.56</td>\n",
       "      <td>44.16</td>\n",
       "      <td>26.40</td>\n",
       "      <td>1.73</td>\n",
       "      <td>4.77</td>\n",
       "      <td>0.31</td>\n",
       "      <td>33.30</td>\n",
       "      <td>84.25</td>\n",
       "      <td>88.3</td>\n",
       "      <td>137</td>\n",
       "      <td>3.65</td>\n",
       "      <td>0.701</td>\n",
       "      <td>0</td>\n",
       "    </tr>\n",
       "    <tr>\n",
       "      <th>18</th>\n",
       "      <td>52</td>\n",
       "      <td>0</td>\n",
       "      <td>7.1</td>\n",
       "      <td>76.20</td>\n",
       "      <td>5.40</td>\n",
       "      <td>16.30</td>\n",
       "      <td>1.20</td>\n",
       "      <td>86.10</td>\n",
       "      <td>57.00</td>\n",
       "      <td>27.00</td>\n",
       "      <td>2.20</td>\n",
       "      <td>10.00</td>\n",
       "      <td>0.08</td>\n",
       "      <td>35.90</td>\n",
       "      <td>110.00</td>\n",
       "      <td>98.6</td>\n",
       "      <td>171</td>\n",
       "      <td>3.65</td>\n",
       "      <td>0.701</td>\n",
       "      <td>0</td>\n",
       "    </tr>\n",
       "    <tr>\n",
       "      <th>19</th>\n",
       "      <td>53</td>\n",
       "      <td>1</td>\n",
       "      <td>5.6</td>\n",
       "      <td>72.70</td>\n",
       "      <td>4.10</td>\n",
       "      <td>19.50</td>\n",
       "      <td>1.10</td>\n",
       "      <td>76.70</td>\n",
       "      <td>52.50</td>\n",
       "      <td>22.50</td>\n",
       "      <td>2.33</td>\n",
       "      <td>2.10</td>\n",
       "      <td>0.08</td>\n",
       "      <td>30.20</td>\n",
       "      <td>74.40</td>\n",
       "      <td>95.6</td>\n",
       "      <td>208</td>\n",
       "      <td>3.65</td>\n",
       "      <td>0.701</td>\n",
       "      <td>0</td>\n",
       "    </tr>\n",
       "    <tr>\n",
       "      <th>20</th>\n",
       "      <td>53</td>\n",
       "      <td>1</td>\n",
       "      <td>2.6</td>\n",
       "      <td>56.00</td>\n",
       "      <td>1.40</td>\n",
       "      <td>33.00</td>\n",
       "      <td>0.90</td>\n",
       "      <td>75.56</td>\n",
       "      <td>44.16</td>\n",
       "      <td>26.40</td>\n",
       "      <td>1.73</td>\n",
       "      <td>3.81</td>\n",
       "      <td>0.12</td>\n",
       "      <td>33.30</td>\n",
       "      <td>84.25</td>\n",
       "      <td>88.3</td>\n",
       "      <td>186</td>\n",
       "      <td>3.65</td>\n",
       "      <td>0.701</td>\n",
       "      <td>0</td>\n",
       "    </tr>\n",
       "    <tr>\n",
       "      <th>21</th>\n",
       "      <td>54</td>\n",
       "      <td>1</td>\n",
       "      <td>10.1</td>\n",
       "      <td>89.50</td>\n",
       "      <td>9.00</td>\n",
       "      <td>5.60</td>\n",
       "      <td>0.60</td>\n",
       "      <td>25.00</td>\n",
       "      <td>15.50</td>\n",
       "      <td>8.90</td>\n",
       "      <td>1.74</td>\n",
       "      <td>1.11</td>\n",
       "      <td>0.09</td>\n",
       "      <td>25.90</td>\n",
       "      <td>68.80</td>\n",
       "      <td>95.4</td>\n",
       "      <td>392</td>\n",
       "      <td>4.85</td>\n",
       "      <td>1.030</td>\n",
       "      <td>1</td>\n",
       "    </tr>\n",
       "    <tr>\n",
       "      <th>22</th>\n",
       "      <td>54</td>\n",
       "      <td>1</td>\n",
       "      <td>3.6</td>\n",
       "      <td>62.60</td>\n",
       "      <td>2.30</td>\n",
       "      <td>26.90</td>\n",
       "      <td>1.00</td>\n",
       "      <td>82.60</td>\n",
       "      <td>51.60</td>\n",
       "      <td>26.10</td>\n",
       "      <td>1.98</td>\n",
       "      <td>2.10</td>\n",
       "      <td>0.10</td>\n",
       "      <td>33.30</td>\n",
       "      <td>84.25</td>\n",
       "      <td>88.3</td>\n",
       "      <td>186</td>\n",
       "      <td>3.65</td>\n",
       "      <td>0.701</td>\n",
       "      <td>0</td>\n",
       "    </tr>\n",
       "    <tr>\n",
       "      <th>23</th>\n",
       "      <td>55</td>\n",
       "      <td>1</td>\n",
       "      <td>5.2</td>\n",
       "      <td>78.90</td>\n",
       "      <td>4.10</td>\n",
       "      <td>13.40</td>\n",
       "      <td>0.70</td>\n",
       "      <td>66.00</td>\n",
       "      <td>45.60</td>\n",
       "      <td>15.80</td>\n",
       "      <td>2.89</td>\n",
       "      <td>9.24</td>\n",
       "      <td>0.03</td>\n",
       "      <td>33.30</td>\n",
       "      <td>84.25</td>\n",
       "      <td>88.3</td>\n",
       "      <td>269</td>\n",
       "      <td>3.65</td>\n",
       "      <td>2.350</td>\n",
       "      <td>0</td>\n",
       "    </tr>\n",
       "    <tr>\n",
       "      <th>24</th>\n",
       "      <td>55</td>\n",
       "      <td>0</td>\n",
       "      <td>8.2</td>\n",
       "      <td>77.00</td>\n",
       "      <td>6.30</td>\n",
       "      <td>19.80</td>\n",
       "      <td>1.60</td>\n",
       "      <td>74.43</td>\n",
       "      <td>52.80</td>\n",
       "      <td>20.70</td>\n",
       "      <td>2.55</td>\n",
       "      <td>3.10</td>\n",
       "      <td>0.08</td>\n",
       "      <td>39.00</td>\n",
       "      <td>24.90</td>\n",
       "      <td>45.4</td>\n",
       "      <td>213</td>\n",
       "      <td>3.24</td>\n",
       "      <td>1.010</td>\n",
       "      <td>0</td>\n",
       "    </tr>\n",
       "    <tr>\n",
       "      <th>25</th>\n",
       "      <td>56</td>\n",
       "      <td>0</td>\n",
       "      <td>9.9</td>\n",
       "      <td>88.80</td>\n",
       "      <td>8.80</td>\n",
       "      <td>8.60</td>\n",
       "      <td>0.90</td>\n",
       "      <td>41.70</td>\n",
       "      <td>27.40</td>\n",
       "      <td>12.50</td>\n",
       "      <td>2.19</td>\n",
       "      <td>8.20</td>\n",
       "      <td>0.30</td>\n",
       "      <td>29.70</td>\n",
       "      <td>80.00</td>\n",
       "      <td>95.6</td>\n",
       "      <td>353</td>\n",
       "      <td>2.33</td>\n",
       "      <td>0.960</td>\n",
       "      <td>1</td>\n",
       "    </tr>\n",
       "    <tr>\n",
       "      <th>26</th>\n",
       "      <td>57</td>\n",
       "      <td>0</td>\n",
       "      <td>5.4</td>\n",
       "      <td>51.70</td>\n",
       "      <td>2.80</td>\n",
       "      <td>40.70</td>\n",
       "      <td>2.80</td>\n",
       "      <td>81.80</td>\n",
       "      <td>51.70</td>\n",
       "      <td>22.20</td>\n",
       "      <td>2.33</td>\n",
       "      <td>1.30</td>\n",
       "      <td>0.05</td>\n",
       "      <td>40.20</td>\n",
       "      <td>142.00</td>\n",
       "      <td>99.0</td>\n",
       "      <td>220</td>\n",
       "      <td>3.65</td>\n",
       "      <td>0.701</td>\n",
       "      <td>0</td>\n",
       "    </tr>\n",
       "  </tbody>\n",
       "</table>\n",
       "</div>"
      ],
      "text/plain": [
       "    age  sex   WBC   NEUT  NEUT#    LYM  LYM#  CD3+ T cells (%)  \\\n",
       "0    13    1   6.7  49.60   3.30  39.70  2.70             76.50   \n",
       "1    14    1   5.2  58.20   3.00  26.00  1.40             48.90   \n",
       "2    15    1   5.7  66.81   3.99  23.77  1.27             75.56   \n",
       "3    24    2   2.3  55.50   1.30  31.50  0.80             76.30   \n",
       "4    25    2   2.3  59.90   1.40  28.80  0.80             48.90   \n",
       "5    26    2   2.7  57.90   1.60  31.90  0.90             78.20   \n",
       "6    27    1   5.3  58.40   3.10  30.00  1.60             75.56   \n",
       "7    28    1   3.9  70.00   2.70  20.40  0.80             48.90   \n",
       "8    29    1   4.7  43.70   2.10  28.90  1.40             74.70   \n",
       "9    46    1   9.2  80.40   7.40  11.60  1.10             75.56   \n",
       "10   47    1   9.4  88.10   8.30   4.80  0.50             75.56   \n",
       "11   48    1   9.6  71.00   4.21  10.90  1.00             48.90   \n",
       "12   49    0   6.9  65.10   4.50  23.00  1.60             68.90   \n",
       "13   50    0   7.1  85.00   6.00   8.30  0.60             75.56   \n",
       "14   51    0   4.3  57.00   2.40  30.50  1.30             48.90   \n",
       "15   51    0   5.4  77.70   4.20  15.90  0.90             80.00   \n",
       "16   52    1   3.8  56.50   2.20  32.70  1.30             48.90   \n",
       "17   52    0   5.9  66.40   3.90  24.80  1.50             75.56   \n",
       "18   52    0   7.1  76.20   5.40  16.30  1.20             86.10   \n",
       "19   53    1   5.6  72.70   4.10  19.50  1.10             76.70   \n",
       "20   53    1   2.6  56.00   1.40  33.00  0.90             75.56   \n",
       "21   54    1  10.1  89.50   9.00   5.60  0.60             25.00   \n",
       "22   54    1   3.6  62.60   2.30  26.90  1.00             82.60   \n",
       "23   55    1   5.2  78.90   4.10  13.40  0.70             66.00   \n",
       "24   55    0   8.2  77.00   6.30  19.80  1.60             74.43   \n",
       "25   56    0   9.9  88.80   8.80   8.60  0.90             41.70   \n",
       "26   57    0   5.4  51.70   2.80  40.70  2.80             81.80   \n",
       "\n",
       "    CD3+CD4+ cells (%)  CD3+CD8+ cells (%)  CD4+/CD8+ ratio  CRP, mg/L  \\\n",
       "0                29.70               38.80             0.77       0.11   \n",
       "1                31.40               15.83             1.96       5.10   \n",
       "2                44.16               26.40             1.73       3.81   \n",
       "3                36.30               31.50             1.15       2.10   \n",
       "4                31.40               15.83             1.96       1.80   \n",
       "5                39.10               32.00             1.22       0.80   \n",
       "6                44.16               26.40             1.73       3.81   \n",
       "7                31.40               15.83             1.96       3.30   \n",
       "8                35.00               35.20             0.99       2.53   \n",
       "9                44.16               26.40             1.73       3.81   \n",
       "10               44.16               26.40             1.73       5.40   \n",
       "11               31.40               15.83             1.96       8.40   \n",
       "12               34.50               19.40             1.78       3.81   \n",
       "13               44.16               26.40             1.73       6.10   \n",
       "14               31.40               15.83             1.96       1.20   \n",
       "15               51.30               26.10             1.97      11.02   \n",
       "16               31.40               15.83             1.96       5.20   \n",
       "17               44.16               26.40             1.73       4.77   \n",
       "18               57.00               27.00             2.20      10.00   \n",
       "19               52.50               22.50             2.33       2.10   \n",
       "20               44.16               26.40             1.73       3.81   \n",
       "21               15.50                8.90             1.74       1.11   \n",
       "22               51.60               26.10             1.98       2.10   \n",
       "23               45.60               15.80             2.89       9.24   \n",
       "24               52.80               20.70             2.55       3.10   \n",
       "25               27.40               12.50             2.19       8.20   \n",
       "26               51.70               22.20             2.33       1.30   \n",
       "\n",
       "    PCT, ng/Ml  pCO2, mm Hg  pO2, mm Hg  SO2 (%)  LDH, U/L  Fib, g/L  \\\n",
       "0         0.10        33.30       84.25     88.3       186      2.80   \n",
       "1         0.18        29.12       99.00     95.0       147      4.32   \n",
       "2         0.10        33.30       84.25     88.3       186      3.65   \n",
       "3         0.10        33.30       84.25     88.3       186      3.39   \n",
       "4         0.02        31.90      127.00     98.7       140      2.98   \n",
       "5         0.04        33.30       84.25     88.3       122      3.65   \n",
       "6         0.15        33.30       84.25     88.3       186      4.30   \n",
       "7         0.10        29.12       99.00     95.0       222      2.66   \n",
       "8         0.10        33.30       84.25     88.3       185      3.65   \n",
       "9         0.12        33.30       84.25     88.3       186      3.00   \n",
       "10        0.10        25.90       88.00     97.7       204      5.20   \n",
       "11        0.24        31.50      153.00     91.2       230      7.90   \n",
       "12        0.10        33.30       84.25     88.3       119      3.65   \n",
       "13        0.07        28.70       66.20     93.5       206      3.65   \n",
       "14        0.40        29.12       99.00     95.0       156      3.50   \n",
       "15        0.14        26.60       67.90     95.8       305      6.04   \n",
       "16        0.18        29.12       99.00     95.0       243      4.85   \n",
       "17        0.31        33.30       84.25     88.3       137      3.65   \n",
       "18        0.08        35.90      110.00     98.6       171      3.65   \n",
       "19        0.08        30.20       74.40     95.6       208      3.65   \n",
       "20        0.12        33.30       84.25     88.3       186      3.65   \n",
       "21        0.09        25.90       68.80     95.4       392      4.85   \n",
       "22        0.10        33.30       84.25     88.3       186      3.65   \n",
       "23        0.03        33.30       84.25     88.3       269      3.65   \n",
       "24        0.08        39.00       24.90     45.4       213      3.24   \n",
       "25        0.30        29.70       80.00     95.6       353      2.33   \n",
       "26        0.05        40.20      142.00     99.0       220      3.65   \n",
       "\n",
       "    D‐D, ug/mL  result  \n",
       "0        0.300       0  \n",
       "1        0.520       1  \n",
       "2        0.701       0  \n",
       "3        0.280       0  \n",
       "4        0.330       1  \n",
       "5        0.701       0  \n",
       "6        0.200       0  \n",
       "7        0.190       1  \n",
       "8        0.701       0  \n",
       "9        0.470       0  \n",
       "10       0.300       0  \n",
       "11       0.200       1  \n",
       "12       0.701       0  \n",
       "13       0.701       0  \n",
       "14       0.650       1  \n",
       "15       0.620       1  \n",
       "16       0.200       1  \n",
       "17       0.701       0  \n",
       "18       0.701       0  \n",
       "19       0.701       0  \n",
       "20       0.701       0  \n",
       "21       1.030       1  \n",
       "22       0.701       0  \n",
       "23       2.350       0  \n",
       "24       1.010       0  \n",
       "25       0.960       1  \n",
       "26       0.701       0  "
      ]
     },
     "execution_count": 2,
     "metadata": {},
     "output_type": "execute_result"
    }
   ],
   "source": [
    "#reading data\n",
    "df=pd.read_excel(\"covid.xlsx\")\n",
    "df.head(50)"
   ]
  },
  {
   "cell_type": "code",
   "execution_count": 3,
   "metadata": {
    "ExecuteTime": {
     "end_time": "2020-07-21T10:33:50.571406Z",
     "start_time": "2020-07-21T10:33:50.559440Z"
    }
   },
   "outputs": [
    {
     "data": {
      "text/plain": [
       "(27, 20)"
      ]
     },
     "execution_count": 3,
     "metadata": {},
     "output_type": "execute_result"
    }
   ],
   "source": [
    "df.shape"
   ]
  },
  {
   "cell_type": "code",
   "execution_count": 4,
   "metadata": {
    "ExecuteTime": {
     "end_time": "2020-07-21T10:33:51.103984Z",
     "start_time": "2020-07-21T10:33:50.575394Z"
    }
   },
   "outputs": [
    {
     "data": {
      "text/plain": [
       "Index(['age', 'sex', 'WBC', 'NEUT', 'NEUT#', 'LYM', 'LYM#', 'CD3+ T cells (%)',\n",
       "       'CD3+CD4+ cells (%)', 'CD3+CD8+ cells (%)', 'CD4+/CD8+ ratio',\n",
       "       'CRP, mg/L', 'PCT, ng/Ml', 'pCO2, mm Hg', 'pO2, mm Hg', 'SO2 (%)',\n",
       "       'LDH, U/L', 'Fib, g/L', 'D‐D, ug/mL', 'result'],\n",
       "      dtype='object')"
      ]
     },
     "execution_count": 4,
     "metadata": {},
     "output_type": "execute_result"
    }
   ],
   "source": [
    "df.columns"
   ]
  },
  {
   "cell_type": "code",
   "execution_count": 5,
   "metadata": {
    "ExecuteTime": {
     "end_time": "2020-07-21T10:33:51.529137Z",
     "start_time": "2020-07-21T10:33:51.107942Z"
    }
   },
   "outputs": [
    {
     "data": {
      "text/plain": [
       "0"
      ]
     },
     "execution_count": 5,
     "metadata": {},
     "output_type": "execute_result"
    }
   ],
   "source": [
    "df.isnull().sum().max()"
   ]
  },
  {
   "cell_type": "code",
   "execution_count": 6,
   "metadata": {
    "ExecuteTime": {
     "end_time": "2020-07-21T10:33:52.800794Z",
     "start_time": "2020-07-21T10:33:51.534134Z"
    }
   },
   "outputs": [
    {
     "data": {
      "image/png": "[encoded data removed]",
      "text/plain": [
       "<Figure size 432x288 with 1 Axes>"
      ]
     },
     "metadata": {
      "needs_background": "light"
     },
     "output_type": "display_data"
    }
   ],
   "source": [
    "#sns.countplot('result', data=df)\n",
    "ax= sns.countplot(x=\"result\", data=df, order=[0,1])\n",
    "plt.title('Results \\n (0: Negative || 1: Positive)', fontsize=14)\n",
    "plt.show()"
   ]
  },
  {
   "cell_type": "code",
   "execution_count": 7,
   "metadata": {
    "ExecuteTime": {
     "end_time": "2020-07-21T10:33:52.839688Z",
     "start_time": "2020-07-21T10:33:52.806781Z"
    }
   },
   "outputs": [
    {
     "name": "stdout",
     "output_type": "stream",
     "text": [
      "Covid Negative 18\n",
      "Covid Positive 9\n",
      "\r\n",
      "Covid Negative 66.67 % of the dataset\n",
      "Covid Positive 33.33 % of the dataset\n"
     ]
    }
   ],
   "source": [
    "print('Covid Negative', round(df['result'].value_counts()[0]))\n",
    "print('Covid Positive', round(df['result'].value_counts()[1]))\n",
    "print('\\r')\n",
    "print('Covid Negative', round(df['result'].value_counts()[0]/len(df) * 100,2), '% of the dataset')\n",
    "print('Covid Positive', round(df['result'].value_counts()[1]/len(df) * 100,2), '% of the dataset')"
   ]
  },
  {
   "cell_type": "code",
   "execution_count": 8,
   "metadata": {
    "ExecuteTime": {
     "end_time": "2020-07-21T10:33:53.091909Z",
     "start_time": "2020-07-21T10:33:52.848665Z"
    }
   },
   "outputs": [
    {
     "name": "stdout",
     "output_type": "stream",
     "text": [
      "The accuracy of the classifier : 0.998269524998681 which is the number of good classification\n"
     ]
    }
   ],
   "source": [
    "print(\"The accuracy of the classifier : \"+ str((284315-492)/284315)+ \" which is the number of good classification\")"
   ]
  },
  {
   "cell_type": "markdown",
   "metadata": {},
   "source": [
    "# Splitting Data"
   ]
  },
  {
   "cell_type": "code",
   "execution_count": 37,
   "metadata": {
    "ExecuteTime": {
     "end_time": "2020-07-21T11:51:58.659794Z",
     "start_time": "2020-07-21T11:51:58.653810Z"
    }
   },
   "outputs": [],
   "source": [
    "X = df.drop(labels='result', axis=1) # Features\n",
    "y = df.loc[:,'result']  "
   ]
  },
  {
   "cell_type": "code",
   "execution_count": 38,
   "metadata": {
    "ExecuteTime": {
     "end_time": "2020-07-21T11:51:59.136823Z",
     "start_time": "2020-07-21T11:51:59.129839Z"
    }
   },
   "outputs": [],
   "source": [
    "from sklearn.model_selection import train_test_split\n",
    "X_train, X_test, y_train, y_test = train_test_split(X, y, test_size=0.5, random_state=1,stratify=y)\n"
   ]
  },
  {
   "cell_type": "markdown",
   "metadata": {
    "ExecuteTime": {
     "end_time": "2020-07-21T10:33:54.653837Z",
     "start_time": "2020-07-21T10:33:54.442637Z"
    }
   },
   "source": [
    "#STANDARD\n",
    "from sklearn.preprocessing import StandardScaler\n",
    "sc = StandardScaler()\n",
    "X_train = sc.fit_transform(X_train)\n",
    "X_test = sc.transform(X_test)"
   ]
  },
  {
   "cell_type": "code",
   "execution_count": 39,
   "metadata": {
    "ExecuteTime": {
     "end_time": "2020-07-21T11:52:01.991133Z",
     "start_time": "2020-07-21T11:52:01.987145Z"
    }
   },
   "outputs": [
    {
     "name": "stdout",
     "output_type": "stream",
     "text": [
      "(13, 19)\n",
      "(14, 19)\n"
     ]
    }
   ],
   "source": [
    "print(X_train.shape)\n",
    "print(X_test.shape)"
   ]
  },
  {
   "cell_type": "code",
   "execution_count": null,
   "metadata": {
    "ExecuteTime": {
     "end_time": "2020-07-21T08:26:34.164518Z",
     "start_time": "2020-07-21T08:26:34.102177Z"
    }
   },
   "outputs": [],
   "source": []
  },
  {
   "cell_type": "markdown",
   "metadata": {},
   "source": [
    "# Logical Regression (Model 1)"
   ]
  },
  {
   "cell_type": "code",
   "execution_count": 40,
   "metadata": {
    "ExecuteTime": {
     "end_time": "2020-07-21T11:52:04.438287Z",
     "start_time": "2020-07-21T11:52:04.435293Z"
    }
   },
   "outputs": [],
   "source": [
    "from sklearn.linear_model import LogisticRegression  #importing model"
   ]
  },
  {
   "cell_type": "code",
   "execution_count": 41,
   "metadata": {
    "ExecuteTime": {
     "end_time": "2020-07-21T11:52:04.877981Z",
     "start_time": "2020-07-21T11:52:04.831847Z"
    }
   },
   "outputs": [
    {
     "data": {
      "text/plain": [
       "LogisticRegression()"
      ]
     },
     "execution_count": 41,
     "metadata": {},
     "output_type": "execute_result"
    }
   ],
   "source": [
    "lr = LogisticRegression()  #initializing the model\n",
    "lr.fit(X_train, y_train)  #fitting train data"
   ]
  },
  {
   "cell_type": "code",
   "execution_count": 42,
   "metadata": {
    "ExecuteTime": {
     "end_time": "2020-07-21T11:52:05.299866Z",
     "start_time": "2020-07-21T11:52:05.293884Z"
    }
   },
   "outputs": [],
   "source": [
    "y_pred = lr.predict(X_test)  #using predict function"
   ]
  },
  {
   "cell_type": "code",
   "execution_count": 43,
   "metadata": {
    "ExecuteTime": {
     "end_time": "2020-07-21T11:52:05.964552Z",
     "start_time": "2020-07-21T11:52:05.810002Z"
    }
   },
   "outputs": [
    {
     "name": "stdout",
     "output_type": "stream",
     "text": [
      "              precision    recall  f1-score   support\n",
      "\n",
      "           0       0.90      1.00      0.95         9\n",
      "           1       1.00      0.80      0.89         5\n",
      "\n",
      "    accuracy                           0.93        14\n",
      "   macro avg       0.95      0.90      0.92        14\n",
      "weighted avg       0.94      0.93      0.93        14\n",
      "\n"
     ]
    },
    {
     "data": {
      "image/png": "[encoded data removed]",
      "text/plain": [
       "<Figure size 432x288 with 2 Axes>"
      ]
     },
     "metadata": {
      "needs_background": "light"
     },
     "output_type": "display_data"
    }
   ],
   "source": [
    "#this will be removed from final .py file as it is not required to present this\n",
    "from sklearn.metrics import confusion_matrix,classification_report\n",
    "cm = confusion_matrix(y_test, y_pred)\n",
    "import itertools\n",
    "def plot_confusion_matrix(cm, classes,title='Confusion matrix',cmap=plt.cm.Blues):\n",
    "    plt.imshow(cm, interpolation='nearest', cmap=cmap)\n",
    "    plt.title(title)\n",
    "    plt.colorbar()\n",
    "    tick_marks = np.arange(len(classes))\n",
    "    plt.xticks(tick_marks, classes, rotation=45)\n",
    "    plt.yticks(tick_marks, classes)\n",
    "    fmt = 'd'\n",
    "    thresh = cm.max() / 2.\n",
    "    for i, j in itertools.product(range(cm.shape[0]), range(cm.shape[1])):\n",
    "        plt.text(j, i, format(cm[i, j], fmt),horizontalalignment='center',color='white' if cm[i, j] > thresh else 'black')\n",
    "    plt.tight_layout()\n",
    "    plt.ylabel('True label')\n",
    "    plt.xlabel('Predicted label')\n",
    "    \n",
    "class_names=np.array(['0','1'])\n",
    "plot_confusion_matrix(cm,class_names)   #for confusion matrix (not needed in final)\n",
    "print(classification_report(y_test,y_pred))"
   ]
  },
  {
   "cell_type": "code",
   "execution_count": 44,
   "metadata": {
    "ExecuteTime": {
     "end_time": "2020-07-21T11:52:06.363656Z",
     "start_time": "2020-07-21T11:52:06.358671Z"
    }
   },
   "outputs": [
    {
     "name": "stdout",
     "output_type": "stream",
     "text": [
      "Test Accuracy 0.9285714285714286\n"
     ]
    }
   ],
   "source": [
    "from sklearn.metrics import accuracy_score   #testing accuracy\n",
    "acc_ts=accuracy_score(y_pred, y_test)\n",
    "print('Test Accuracy',acc_ts)"
   ]
  },
  {
   "cell_type": "markdown",
   "metadata": {},
   "source": [
    "### All Models will be applied the same way"
   ]
  },
  {
   "cell_type": "markdown",
   "metadata": {},
   "source": [
    "# Decision Tree (Model 2)"
   ]
  },
  {
   "cell_type": "code",
   "execution_count": 45,
   "metadata": {
    "ExecuteTime": {
     "end_time": "2020-07-21T11:52:08.443953Z",
     "start_time": "2020-07-21T11:52:08.440959Z"
    }
   },
   "outputs": [],
   "source": [
    "from sklearn.tree import DecisionTreeClassifier"
   ]
  },
  {
   "cell_type": "code",
   "execution_count": 46,
   "metadata": {
    "ExecuteTime": {
     "end_time": "2020-07-21T11:52:08.697277Z",
     "start_time": "2020-07-21T11:52:08.693288Z"
    }
   },
   "outputs": [],
   "source": [
    "clf=DecisionTreeClassifier()"
   ]
  },
  {
   "cell_type": "code",
   "execution_count": 47,
   "metadata": {
    "ExecuteTime": {
     "end_time": "2020-07-21T11:52:09.014427Z",
     "start_time": "2020-07-21T11:52:09.006448Z"
    }
   },
   "outputs": [
    {
     "data": {
      "text/plain": [
       "DecisionTreeClassifier()"
      ]
     },
     "execution_count": 47,
     "metadata": {},
     "output_type": "execute_result"
    }
   ],
   "source": [
    "clf.fit(X_train, y_train)"
   ]
  },
  {
   "cell_type": "code",
   "execution_count": 48,
   "metadata": {
    "ExecuteTime": {
     "end_time": "2020-07-21T11:52:09.353845Z",
     "start_time": "2020-07-21T11:52:09.344835Z"
    }
   },
   "outputs": [],
   "source": [
    "y_pred=clf.predict(X_test)"
   ]
  },
  {
   "cell_type": "code",
   "execution_count": 49,
   "metadata": {
    "ExecuteTime": {
     "end_time": "2020-07-21T11:52:10.310828Z",
     "start_time": "2020-07-21T11:52:10.002686Z"
    }
   },
   "outputs": [
    {
     "name": "stdout",
     "output_type": "stream",
     "text": [
      "              precision    recall  f1-score   support\n",
      "\n",
      "           0       0.90      1.00      0.95         9\n",
      "           1       1.00      0.80      0.89         5\n",
      "\n",
      "    accuracy                           0.93        14\n",
      "   macro avg       0.95      0.90      0.92        14\n",
      "weighted avg       0.94      0.93      0.93        14\n",
      "\n"
     ]
    },
    {
     "data": {
      "image/png": "[encoded data removed]",
      "text/plain": [
       "<Figure size 432x288 with 2 Axes>"
      ]
     },
     "metadata": {
      "needs_background": "light"
     },
     "output_type": "display_data"
    }
   ],
   "source": [
    "#this will be removed from final .py file as it is not required to present this\n",
    "from sklearn.metrics import confusion_matrix,classification_report\n",
    "cm = confusion_matrix(y_test, y_pred)\n",
    "import itertools\n",
    "def plot_confusion_matrix(cm, classes,title='Confusion matrix',cmap=plt.cm.Blues):\n",
    "    plt.imshow(cm, interpolation='nearest', cmap=cmap)\n",
    "    plt.title(title)\n",
    "    plt.colorbar()\n",
    "    tick_marks = np.arange(len(classes))\n",
    "    plt.xticks(tick_marks, classes, rotation=45)\n",
    "    plt.yticks(tick_marks, classes)\n",
    "    fmt = 'd'\n",
    "    thresh = cm.max() / 2.\n",
    "    for i, j in itertools.product(range(cm.shape[0]), range(cm.shape[1])):\n",
    "        plt.text(j, i, format(cm[i, j], fmt),horizontalalignment='center',color='white' if cm[i, j] > thresh else 'black')\n",
    "    plt.tight_layout()\n",
    "    plt.ylabel('True label')\n",
    "    plt.xlabel('Predicted label')\n",
    "    \n",
    "class_names=np.array(['0','1'])\n",
    "plot_confusion_matrix(cm,class_names)\n",
    "print(classification_report(y_test,y_pred))"
   ]
  },
  {
   "cell_type": "code",
   "execution_count": 50,
   "metadata": {
    "ExecuteTime": {
     "end_time": "2020-07-21T11:52:10.724401Z",
     "start_time": "2020-07-21T11:52:10.718442Z"
    },
    "scrolled": true
   },
   "outputs": [
    {
     "name": "stdout",
     "output_type": "stream",
     "text": [
      "Test Accuracy 0.9285714285714286\n"
     ]
    }
   ],
   "source": [
    "acc_ts=accuracy_score(y_pred, y_test)\n",
    "print('Test Accuracy',acc_ts)"
   ]
  },
  {
   "cell_type": "markdown",
   "metadata": {},
   "source": [
    "#  SVM (Model 3)"
   ]
  },
  {
   "cell_type": "code",
   "execution_count": 24,
   "metadata": {
    "ExecuteTime": {
     "end_time": "2020-07-21T10:34:03.097726Z",
     "start_time": "2020-07-21T10:34:02.899402Z"
    }
   },
   "outputs": [],
   "source": [
    "from sklearn import svm"
   ]
  },
  {
   "cell_type": "code",
   "execution_count": 25,
   "metadata": {
    "ExecuteTime": {
     "end_time": "2020-07-21T10:34:03.355746Z",
     "start_time": "2020-07-21T10:34:03.100722Z"
    }
   },
   "outputs": [
    {
     "data": {
      "text/plain": [
       "SVC(kernel='linear')"
      ]
     },
     "execution_count": 25,
     "metadata": {},
     "output_type": "execute_result"
    }
   ],
   "source": [
    "clf= svm.SVC(kernel='linear')\n",
    "clf.fit(X_train,y_train)"
   ]
  },
  {
   "cell_type": "code",
   "execution_count": 26,
   "metadata": {
    "ExecuteTime": {
     "end_time": "2020-07-21T10:34:03.816981Z",
     "start_time": "2020-07-21T10:34:03.360732Z"
    }
   },
   "outputs": [],
   "source": [
    "y_pred=clf.predict(X_test)"
   ]
  },
  {
   "cell_type": "code",
   "execution_count": 27,
   "metadata": {
    "ExecuteTime": {
     "end_time": "2020-07-21T10:34:04.917944Z",
     "start_time": "2020-07-21T10:34:03.819775Z"
    }
   },
   "outputs": [
    {
     "name": "stdout",
     "output_type": "stream",
     "text": [
      "              precision    recall  f1-score   support\n",
      "\n",
      "           0       0.90      1.00      0.95         9\n",
      "           1       1.00      0.80      0.89         5\n",
      "\n",
      "    accuracy                           0.93        14\n",
      "   macro avg       0.95      0.90      0.92        14\n",
      "weighted avg       0.94      0.93      0.93        14\n",
      "\n"
     ]
    },
    {
     "data": {
      "image/png": "[encoded data removed]",
      "text/plain": [
       "<Figure size 432x288 with 2 Axes>"
      ]
     },
     "metadata": {
      "needs_background": "light"
     },
     "output_type": "display_data"
    }
   ],
   "source": [
    "#this will be removed from final .py file as it is not required to present this\n",
    "from sklearn.metrics import confusion_matrix,classification_report\n",
    "cm = confusion_matrix(y_test, y_pred)\n",
    "import itertools\n",
    "def plot_confusion_matrix(cm, classes,title='Confusion matrix',cmap=plt.cm.Blues):\n",
    "    plt.imshow(cm, interpolation='nearest', cmap=cmap)\n",
    "    plt.title(title)\n",
    "    plt.colorbar()\n",
    "    tick_marks = np.arange(len(classes))\n",
    "    plt.xticks(tick_marks, classes, rotation=45)\n",
    "    plt.yticks(tick_marks, classes)\n",
    "    fmt = 'd'\n",
    "    thresh = cm.max() / 2.\n",
    "    for i, j in itertools.product(range(cm.shape[0]), range(cm.shape[1])):\n",
    "        plt.text(j, i, format(cm[i, j], fmt),horizontalalignment='center',color='white' if cm[i, j] > thresh else 'black')\n",
    "    plt.tight_layout()\n",
    "    plt.ylabel('True label')\n",
    "    plt.xlabel('Predicted label')\n",
    "    \n",
    "class_names=np.array(['0','1'])\n",
    "plot_confusion_matrix(cm,class_names)\n",
    "print(classification_report(y_test,y_pred))"
   ]
  },
  {
   "cell_type": "code",
   "execution_count": 28,
   "metadata": {
    "ExecuteTime": {
     "end_time": "2020-07-21T10:34:05.482049Z",
     "start_time": "2020-07-21T10:34:04.921935Z"
    }
   },
   "outputs": [
    {
     "name": "stdout",
     "output_type": "stream",
     "text": [
      "TestAccuracy 0.9285714285714286\n"
     ]
    }
   ],
   "source": [
    "acc_ts=accuracy_score(y_pred, y_test)\n",
    "print('TestAccuracy',acc_ts)"
   ]
  },
  {
   "cell_type": "markdown",
   "metadata": {},
   "source": [
    "# Random Forest (Model 4)"
   ]
  },
  {
   "cell_type": "code",
   "execution_count": 29,
   "metadata": {
    "ExecuteTime": {
     "end_time": "2020-07-21T10:34:06.195459Z",
     "start_time": "2020-07-21T10:34:05.486039Z"
    }
   },
   "outputs": [],
   "source": [
    "from sklearn.ensemble import RandomForestClassifier\n",
    "rf = RandomForestClassifier(n_estimators = 5, criterion = 'entropy',random_state = 0)\n",
    "rf.fit(X_train, y_train)\n",
    "y_pred = rf.predict(X_test)"
   ]
  },
  {
   "cell_type": "code",
   "execution_count": 30,
   "metadata": {
    "ExecuteTime": {
     "end_time": "2020-07-21T10:34:06.518567Z",
     "start_time": "2020-07-21T10:34:06.198386Z"
    }
   },
   "outputs": [
    {
     "name": "stdout",
     "output_type": "stream",
     "text": [
      "              precision    recall  f1-score   support\n",
      "\n",
      "           0       0.90      1.00      0.95         9\n",
      "           1       1.00      0.80      0.89         5\n",
      "\n",
      "    accuracy                           0.93        14\n",
      "   macro avg       0.95      0.90      0.92        14\n",
      "weighted avg       0.94      0.93      0.93        14\n",
      "\n"
     ]
    },
    {
     "data": {
      "image/png": "[encoded data removed]",
      "text/plain": [
       "<Figure size 432x288 with 2 Axes>"
      ]
     },
     "metadata": {
      "needs_background": "light"
     },
     "output_type": "display_data"
    }
   ],
   "source": [
    "from sklearn.metrics import confusion_matrix,classification_report\n",
    "cm = confusion_matrix(y_test, y_pred)\n",
    "import itertools\n",
    "def plot_confusion_matrix(cm, classes,title='Confusion matrix',cmap=plt.cm.Blues):\n",
    "    plt.imshow(cm, interpolation='nearest', cmap=cmap)\n",
    "    plt.title(title)\n",
    "    plt.colorbar()\n",
    "    tick_marks = np.arange(len(classes))\n",
    "    plt.xticks(tick_marks, classes, rotation=45)\n",
    "    plt.yticks(tick_marks, classes)\n",
    "    fmt = 'd'\n",
    "    thresh = cm.max() / 2.\n",
    "    for i, j in itertools.product(range(cm.shape[0]), range(cm.shape[1])):\n",
    "        plt.text(j, i, format(cm[i, j], fmt),horizontalalignment='center',color='white' if cm[i, j] > thresh else 'black')\n",
    "    plt.tight_layout()\n",
    "    plt.ylabel('True label')\n",
    "    plt.xlabel('Predicted label')\n",
    "    \n",
    "class_names=np.array(['0','1'])\n",
    "plot_confusion_matrix(cm,class_names)\n",
    "print(classification_report(y_test,y_pred))"
   ]
  },
  {
   "cell_type": "code",
   "execution_count": 31,
   "metadata": {
    "ExecuteTime": {
     "end_time": "2020-07-21T10:34:06.532530Z",
     "start_time": "2020-07-21T10:34:06.523554Z"
    }
   },
   "outputs": [
    {
     "name": "stdout",
     "output_type": "stream",
     "text": [
      "Test Accuracy 0.9285714285714286\n"
     ]
    }
   ],
   "source": [
    "acc_ts=accuracy_score(y_pred, y_test)\n",
    "print('Test Accuracy',acc_ts)"
   ]
  },
  {
   "cell_type": "markdown",
   "metadata": {},
   "source": [
    "# Naive Bayes (Model 5)"
   ]
  },
  {
   "cell_type": "code",
   "execution_count": 32,
   "metadata": {
    "ExecuteTime": {
     "end_time": "2020-07-21T10:34:06.778181Z",
     "start_time": "2020-07-21T10:34:06.535520Z"
    }
   },
   "outputs": [],
   "source": [
    "from sklearn.naive_bayes import GaussianNB\n",
    "nb = GaussianNB()\n",
    "nb.fit(X_train, y_train)\n",
    "y_pred = nb.predict(X_test)"
   ]
  },
  {
   "cell_type": "code",
   "execution_count": 33,
   "metadata": {
    "ExecuteTime": {
     "end_time": "2020-07-21T10:34:07.219337Z",
     "start_time": "2020-07-21T10:34:06.781216Z"
    }
   },
   "outputs": [
    {
     "name": "stdout",
     "output_type": "stream",
     "text": [
      "              precision    recall  f1-score   support\n",
      "\n",
      "           0       1.00      0.44      0.62         9\n",
      "           1       0.50      1.00      0.67         5\n",
      "\n",
      "    accuracy                           0.64        14\n",
      "   macro avg       0.75      0.72      0.64        14\n",
      "weighted avg       0.82      0.64      0.63        14\n",
      "\n"
     ]
    },
    {
     "data": {
      "image/png": "[encoded data removed]",
      "text/plain": [
       "<Figure size 432x288 with 2 Axes>"
      ]
     },
     "metadata": {
      "needs_background": "light"
     },
     "output_type": "display_data"
    }
   ],
   "source": [
    "from sklearn.metrics import confusion_matrix,classification_report\n",
    "cm = confusion_matrix(y_test, y_pred)\n",
    "import itertools\n",
    "def plot_confusion_matrix(cm, classes,title='Confusion matrix',cmap=plt.cm.Blues):\n",
    "    plt.imshow(cm, interpolation='nearest', cmap=cmap)\n",
    "    plt.title(title)\n",
    "    plt.colorbar()\n",
    "    tick_marks = np.arange(len(classes))\n",
    "    plt.xticks(tick_marks, classes, rotation=45)\n",
    "    plt.yticks(tick_marks, classes)\n",
    "    fmt = 'd'\n",
    "    thresh = cm.max() / 2.\n",
    "    for i, j in itertools.product(range(cm.shape[0]), range(cm.shape[1])):\n",
    "        plt.text(j, i, format(cm[i, j], fmt),horizontalalignment='center',color='white' if cm[i, j] > thresh else 'black')\n",
    "    plt.tight_layout()\n",
    "    plt.ylabel('True label')\n",
    "    plt.xlabel('Predicted label')\n",
    "    \n",
    "class_names=np.array(['0','1'])\n",
    "plot_confusion_matrix(cm,class_names)\n",
    "print(classification_report(y_test,y_pred))"
   ]
  },
  {
   "cell_type": "code",
   "execution_count": 34,
   "metadata": {
    "ExecuteTime": {
     "end_time": "2020-07-21T10:34:07.232306Z",
     "start_time": "2020-07-21T10:34:07.223328Z"
    }
   },
   "outputs": [
    {
     "name": "stdout",
     "output_type": "stream",
     "text": [
      "Test Accuracy 0.6428571428571429\n"
     ]
    }
   ],
   "source": [
    "acc_ts=accuracy_score(y_pred, y_test)\n",
    "print('Test Accuracy',acc_ts)"
   ]
  },
  {
   "cell_type": "code",
   "execution_count": null,
   "metadata": {},
   "outputs": [],
   "source": []
  },
  {
   "cell_type": "markdown",
   "metadata": {},
   "source": [
    "# Conclusion"
   ]
  },
  {
   "cell_type": "markdown",
   "metadata": {},
   "source": [
    "Since due to non availability of accurate data the accuracy acheived was only 83.33% even after trying differnt models"
   ]
  },
  {
   "cell_type": "markdown",
   "metadata": {},
   "source": [
    "# For Deployment"
   ]
  },
  {
   "cell_type": "code",
   "execution_count": 51,
   "metadata": {
    "ExecuteTime": {
     "end_time": "2020-07-21T11:53:30.973186Z",
     "start_time": "2020-07-21T11:53:30.943266Z"
    }
   },
   "outputs": [],
   "source": [
    "# Importing the libraries\n",
    "import numpy as np\n",
    "import pandas as pd\n",
    "import pickle\n",
    "\n",
    "#Reading Data\n",
    "df=pd.read_excel(\"covid.xlsx\")\n",
    "X = df.drop(labels='result', axis=1) # Features\n",
    "y = df.loc[:,'result']  \n",
    "\n",
    "#Splitting Training and Test Set\n",
    "from sklearn.model_selection import train_test_split\n",
    "X_train, X_test, y_train, y_test = train_test_split(X, y, test_size=0.5, random_state=1,stratify=y)\n",
    "\n",
    "#Pre Processing\n",
    "#from sklearn.preprocessing import StandardScaler\n",
    "#sc = StandardScaler()\n",
    "#X_train = sc.fit_transform(X_train)\n",
    "#X_test = sc.transform(X_test)\n",
    "\n",
    "from sklearn.tree import DecisionTreeClassifier\n",
    "clf=DecisionTreeClassifier()\n",
    "\n",
    "#Fitting model with trainig data\n",
    "clf.fit(X_train, y_train)\n",
    "\n",
    "#dump DT model in model.pickle with write-binary mode\n",
    "pickle.dump(clf, open('model.pkl','wb'))\n",
    "\n",
    "#create a classifier model 'model' that can be used for prediction\n",
    "model = pickle.load(open('model.pkl','rb'))\n",
    "\n",
    "#model can be tested by using predict function as depicted below\n",
    "#print(model.predict([[2, 9, 6]]))"
   ]
  },
  {
   "cell_type": "code",
   "execution_count": 36,
   "metadata": {
    "ExecuteTime": {
     "end_time": "2020-07-21T11:46:35.046713Z",
     "start_time": "2020-07-21T11:46:35.042721Z"
    }
   },
   "outputs": [],
   "source": []
  },
  {
   "cell_type": "code",
   "execution_count": null,
   "metadata": {},
   "outputs": [],
   "source": []
  }
 ],
 "metadata": {
  "kernelspec": {
   "display_name": "Python 3",
   "language": "python",
   "name": "python3"
  },
  "language_info": {
   "codemirror_mode": {
    "name": "ipython",
    "version": 3
   },
   "file_extension": ".py",
   "mimetype": "text/x-python",
   "name": "python",
   "nbconvert_exporter": "python",
   "pygments_lexer": "ipython3",
   "version": "3.7.7"
  }
 },
 "nbformat": 4,
 "nbformat_minor": 4
}
