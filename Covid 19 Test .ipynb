{
 "cells": [
  {
   "cell_type": "markdown",
   "metadata": {},
   "source": [
    "# Importing and Reading"
   ]
  },
  {
   "cell_type": "code",
   "execution_count": 1,
   "metadata": {
    "ExecuteTime": {
     "end_time": "2020-07-01T13:52:50.739701Z",
     "start_time": "2020-07-01T13:52:49.489074Z"
    }
   },
   "outputs": [],
   "source": [
    "# This is A snippet for all data related tasks\n",
    "#Modules used- pandas, numpy,seaborn,matplotlib,sklearn\n",
    "\n",
    "import pandas as pd\n",
    "import numpy as np\n",
    "import seaborn as sns\n",
    "import matplotlib.pyplot as plt\n",
    "from sklearn.metrics import confusion_matrix\n",
    "%matplotlib inline\n",
    "import warnings\n",
    "warnings.filterwarnings('ignore')\n",
    "# pandas defaults\n",
    "pd.options.display.max_columns = 500\n",
    "pd.options.display.max_rows = 500"
   ]
  },
  {
   "cell_type": "code",
   "execution_count": 2,
   "metadata": {
    "ExecuteTime": {
     "end_time": "2020-07-01T13:52:50.799675Z",
     "start_time": "2020-07-01T13:52:50.740638Z"
    }
   },
   "outputs": [
    {
     "data": {
      "text/html": [
       "<div>\n",
       "<style scoped>\n",
       "    .dataframe tbody tr th:only-of-type {\n",
       "        vertical-align: middle;\n",
       "    }\n",
       "\n",
       "    .dataframe tbody tr th {\n",
       "        vertical-align: top;\n",
       "    }\n",
       "\n",
       "    .dataframe thead th {\n",
       "        text-align: right;\n",
       "    }\n",
       "</style>\n",
       "<table border=\"1\" class=\"dataframe\">\n",
       "  <thead>\n",
       "    <tr style=\"text-align: right;\">\n",
       "      <th></th>\n",
       "      <th>age</th>\n",
       "      <th>sex</th>\n",
       "      <th>WBC</th>\n",
       "      <th>NEUT</th>\n",
       "      <th>NEUT#</th>\n",
       "      <th>LYM</th>\n",
       "      <th>LYM#</th>\n",
       "      <th>CD3+ T cells (%)</th>\n",
       "      <th>CD3+CD4+ cells (%)</th>\n",
       "      <th>CD3+CD8+ cells (%)</th>\n",
       "      <th>CD4+/CD8+ ratio</th>\n",
       "      <th>CRP, mg/L</th>\n",
       "      <th>PCT, ng/Ml</th>\n",
       "      <th>pCO2, mm Hg</th>\n",
       "      <th>pO2, mm Hg</th>\n",
       "      <th>SO2 (%)</th>\n",
       "      <th>LDH, U/L</th>\n",
       "      <th>Fib, g/L</th>\n",
       "      <th>D‐D, ug/mL</th>\n",
       "      <th>result</th>\n",
       "    </tr>\n",
       "  </thead>\n",
       "  <tbody>\n",
       "    <tr>\n",
       "      <th>0</th>\n",
       "      <td>13</td>\n",
       "      <td>1</td>\n",
       "      <td>6.7</td>\n",
       "      <td>49.60</td>\n",
       "      <td>3.30</td>\n",
       "      <td>39.70</td>\n",
       "      <td>2.70</td>\n",
       "      <td>76.50</td>\n",
       "      <td>29.70</td>\n",
       "      <td>38.80</td>\n",
       "      <td>0.77</td>\n",
       "      <td>0.11</td>\n",
       "      <td>0.10</td>\n",
       "      <td>33.30</td>\n",
       "      <td>84.25</td>\n",
       "      <td>88.3</td>\n",
       "      <td>186</td>\n",
       "      <td>2.80</td>\n",
       "      <td>0.300</td>\n",
       "      <td>0</td>\n",
       "    </tr>\n",
       "    <tr>\n",
       "      <th>1</th>\n",
       "      <td>14</td>\n",
       "      <td>1</td>\n",
       "      <td>5.2</td>\n",
       "      <td>58.20</td>\n",
       "      <td>3.00</td>\n",
       "      <td>26.00</td>\n",
       "      <td>1.40</td>\n",
       "      <td>48.90</td>\n",
       "      <td>31.40</td>\n",
       "      <td>15.83</td>\n",
       "      <td>1.96</td>\n",
       "      <td>5.10</td>\n",
       "      <td>0.18</td>\n",
       "      <td>29.12</td>\n",
       "      <td>99.00</td>\n",
       "      <td>95.0</td>\n",
       "      <td>147</td>\n",
       "      <td>4.32</td>\n",
       "      <td>0.520</td>\n",
       "      <td>1</td>\n",
       "    </tr>\n",
       "    <tr>\n",
       "      <th>2</th>\n",
       "      <td>15</td>\n",
       "      <td>1</td>\n",
       "      <td>5.7</td>\n",
       "      <td>66.81</td>\n",
       "      <td>3.99</td>\n",
       "      <td>23.77</td>\n",
       "      <td>1.27</td>\n",
       "      <td>75.56</td>\n",
       "      <td>44.16</td>\n",
       "      <td>26.40</td>\n",
       "      <td>1.73</td>\n",
       "      <td>3.81</td>\n",
       "      <td>0.10</td>\n",
       "      <td>33.30</td>\n",
       "      <td>84.25</td>\n",
       "      <td>88.3</td>\n",
       "      <td>186</td>\n",
       "      <td>3.65</td>\n",
       "      <td>0.701</td>\n",
       "      <td>0</td>\n",
       "    </tr>\n",
       "    <tr>\n",
       "      <th>3</th>\n",
       "      <td>24</td>\n",
       "      <td>2</td>\n",
       "      <td>2.3</td>\n",
       "      <td>55.50</td>\n",
       "      <td>1.30</td>\n",
       "      <td>31.50</td>\n",
       "      <td>0.80</td>\n",
       "      <td>76.30</td>\n",
       "      <td>36.30</td>\n",
       "      <td>31.50</td>\n",
       "      <td>1.15</td>\n",
       "      <td>2.10</td>\n",
       "      <td>0.10</td>\n",
       "      <td>33.30</td>\n",
       "      <td>84.25</td>\n",
       "      <td>88.3</td>\n",
       "      <td>186</td>\n",
       "      <td>3.39</td>\n",
       "      <td>0.280</td>\n",
       "      <td>0</td>\n",
       "    </tr>\n",
       "    <tr>\n",
       "      <th>4</th>\n",
       "      <td>25</td>\n",
       "      <td>2</td>\n",
       "      <td>2.3</td>\n",
       "      <td>59.90</td>\n",
       "      <td>1.40</td>\n",
       "      <td>28.80</td>\n",
       "      <td>0.80</td>\n",
       "      <td>48.90</td>\n",
       "      <td>31.40</td>\n",
       "      <td>15.83</td>\n",
       "      <td>1.96</td>\n",
       "      <td>1.80</td>\n",
       "      <td>0.02</td>\n",
       "      <td>31.90</td>\n",
       "      <td>127.00</td>\n",
       "      <td>98.7</td>\n",
       "      <td>140</td>\n",
       "      <td>2.98</td>\n",
       "      <td>0.330</td>\n",
       "      <td>1</td>\n",
       "    </tr>\n",
       "  </tbody>\n",
       "</table>\n",
       "</div>"
      ],
      "text/plain": [
       "   age  sex  WBC   NEUT  NEUT#    LYM  LYM#  CD3+ T cells (%)  \\\n",
       "0   13    1  6.7  49.60   3.30  39.70  2.70             76.50   \n",
       "1   14    1  5.2  58.20   3.00  26.00  1.40             48.90   \n",
       "2   15    1  5.7  66.81   3.99  23.77  1.27             75.56   \n",
       "3   24    2  2.3  55.50   1.30  31.50  0.80             76.30   \n",
       "4   25    2  2.3  59.90   1.40  28.80  0.80             48.90   \n",
       "\n",
       "   CD3+CD4+ cells (%)  CD3+CD8+ cells (%)  CD4+/CD8+ ratio  CRP, mg/L  \\\n",
       "0               29.70               38.80             0.77       0.11   \n",
       "1               31.40               15.83             1.96       5.10   \n",
       "2               44.16               26.40             1.73       3.81   \n",
       "3               36.30               31.50             1.15       2.10   \n",
       "4               31.40               15.83             1.96       1.80   \n",
       "\n",
       "   PCT, ng/Ml  pCO2, mm Hg  pO2, mm Hg  SO2 (%)  LDH, U/L  Fib, g/L  \\\n",
       "0        0.10        33.30       84.25     88.3       186      2.80   \n",
       "1        0.18        29.12       99.00     95.0       147      4.32   \n",
       "2        0.10        33.30       84.25     88.3       186      3.65   \n",
       "3        0.10        33.30       84.25     88.3       186      3.39   \n",
       "4        0.02        31.90      127.00     98.7       140      2.98   \n",
       "\n",
       "   D‐D, ug/mL  result  \n",
       "0       0.300       0  \n",
       "1       0.520       1  \n",
       "2       0.701       0  \n",
       "3       0.280       0  \n",
       "4       0.330       1  "
      ]
     },
     "execution_count": 2,
     "metadata": {},
     "output_type": "execute_result"
    }
   ],
   "source": [
    "#reading data\n",
    "df=pd.read_excel(\"covid.xlsx\")\n",
    "df.head()"
   ]
  },
  {
   "cell_type": "code",
   "execution_count": 3,
   "metadata": {
    "ExecuteTime": {
     "end_time": "2020-07-01T13:52:50.844089Z",
     "start_time": "2020-07-01T13:52:50.801671Z"
    }
   },
   "outputs": [
    {
     "data": {
      "text/plain": [
       "0"
      ]
     },
     "execution_count": 3,
     "metadata": {},
     "output_type": "execute_result"
    }
   ],
   "source": [
    "df.isnull().sum().max()"
   ]
  },
  {
   "cell_type": "code",
   "execution_count": 6,
   "metadata": {
    "ExecuteTime": {
     "end_time": "2020-07-01T13:53:47.053464Z",
     "start_time": "2020-07-01T13:53:46.953554Z"
    }
   },
   "outputs": [
    {
     "data": {
      "image/png": "[encoded data removed]",
      "text/plain": [
       "<Figure size 432x288 with 1 Axes>"
      ]
     },
     "metadata": {
      "needs_background": "light"
     },
     "output_type": "display_data"
    }
   ],
   "source": [
    "#sns.countplot('result', data=df)\n",
    "ax= sns.countplot(x=\"result\", data=df, order=[0,1])\n",
    "plt.title('Results \\n (0: Negative || 1: Positive)', fontsize=14)\n",
    "plt.show()"
   ]
  },
  {
   "cell_type": "code",
   "execution_count": 9,
   "metadata": {
    "ExecuteTime": {
     "end_time": "2020-07-01T13:55:53.057196Z",
     "start_time": "2020-07-01T13:55:53.044231Z"
    }
   },
   "outputs": [
    {
     "name": "stdout",
     "output_type": "stream",
     "text": [
      "Covid Negative 18\n",
      "Covid Positive 9\n",
      "\r\n",
      "Covid Negative 66.67 % of the dataset\n",
      "Covid Positive 33.33 % of the dataset\n"
     ]
    }
   ],
   "source": [
    "print('Covid Negative', round(df['result'].value_counts()[0]))\n",
    "print('Covid Positive', round(df['result'].value_counts()[1]))\n",
    "print('\\r')\n",
    "print('Covid Negative', round(df['result'].value_counts()[0]/len(df) * 100,2), '% of the dataset')\n",
    "print('Covid Positive', round(df['result'].value_counts()[1]/len(df) * 100,2), '% of the dataset')"
   ]
  },
  {
   "cell_type": "code",
   "execution_count": 10,
   "metadata": {
    "ExecuteTime": {
     "end_time": "2020-07-01T13:56:07.070276Z",
     "start_time": "2020-07-01T13:56:07.066286Z"
    }
   },
   "outputs": [
    {
     "name": "stdout",
     "output_type": "stream",
     "text": [
      "The accuracy of the classifier : 0.998269524998681 which is the number of good classification\n"
     ]
    }
   ],
   "source": [
    "print(\"The accuracy of the classifier : \"+ str((284315-492)/284315)+ \" which is the number of good classification\")"
   ]
  },
  {
   "cell_type": "markdown",
   "metadata": {
    "heading_collapsed": true
   },
   "source": [
    "# Splitting Data"
   ]
  },
  {
   "cell_type": "code",
   "execution_count": 11,
   "metadata": {
    "ExecuteTime": {
     "end_time": "2020-07-01T13:56:33.946139Z",
     "start_time": "2020-07-01T13:56:33.941150Z"
    },
    "hidden": true
   },
   "outputs": [],
   "source": [
    "X = df.drop(labels='result', axis=1) # Features\n",
    "y = df.loc[:,'result']  "
   ]
  },
  {
   "cell_type": "code",
   "execution_count": 12,
   "metadata": {
    "ExecuteTime": {
     "end_time": "2020-07-01T13:56:34.952358Z",
     "start_time": "2020-07-01T13:56:34.554520Z"
    },
    "hidden": true
   },
   "outputs": [],
   "source": [
    "from sklearn.model_selection import train_test_split\n",
    "X_train, X_test, y_train, y_test = train_test_split(X, y, test_size=0.2, random_state=1,stratify=y)\n"
   ]
  },
  {
   "cell_type": "code",
   "execution_count": 20,
   "metadata": {
    "ExecuteTime": {
     "end_time": "2020-07-01T14:00:03.845187Z",
     "start_time": "2020-07-01T14:00:03.840201Z"
    },
    "hidden": true
   },
   "outputs": [
    {
     "name": "stdout",
     "output_type": "stream",
     "text": [
      "(21, 19)\n",
      "(6, 19)\n"
     ]
    }
   ],
   "source": [
    "print(X_train.shape)\n",
    "print(X_test.shape)"
   ]
  },
  {
   "cell_type": "markdown",
   "metadata": {},
   "source": [
    "# Confusion Matrix function"
   ]
  },
  {
   "cell_type": "code",
   "execution_count": 21,
   "metadata": {
    "ExecuteTime": {
     "end_time": "2020-07-01T14:00:06.446066Z",
     "start_time": "2020-07-01T14:00:06.437128Z"
    }
   },
   "outputs": [],
   "source": [
    "#this will be removed from final .py file as it is not required to present this\n",
    "from sklearn.metrics import confusion_matrix,classification_report\n",
    "cm = confusion_matrix(y_test, y_pred)\n",
    "import itertools\n",
    "def plot_confusion_matrix(cm, classes,title='Confusion matrix',cmap=plt.cm.Blues):\n",
    "    plt.imshow(cm, interpolation='nearest', cmap=cmap)\n",
    "    plt.title(title)\n",
    "    plt.colorbar()\n",
    "    tick_marks = np.arange(len(classes))\n",
    "    plt.xticks(tick_marks, classes, rotation=45)\n",
    "    plt.yticks(tick_marks, classes)\n",
    "    fmt = 'd'\n",
    "    thresh = cm.max() / 2.\n",
    "    for i, j in itertools.product(range(cm.shape[0]), range(cm.shape[1])):\n",
    "        plt.text(j, i, format(cm[i, j], fmt),horizontalalignment='center',color='white' if cm[i, j] > thresh else 'black')\n",
    "    plt.tight_layout()\n",
    "    plt.ylabel('True label')\n",
    "    plt.xlabel('Predicted label')\n",
    "    \n",
    "class_names=np.array(['0','1'])"
   ]
  },
  {
   "cell_type": "markdown",
   "metadata": {},
   "source": [
    "# Logical Regression (Model 1)"
   ]
  },
  {
   "cell_type": "code",
   "execution_count": 22,
   "metadata": {
    "ExecuteTime": {
     "end_time": "2020-07-01T14:00:11.462031Z",
     "start_time": "2020-07-01T14:00:11.459081Z"
    }
   },
   "outputs": [],
   "source": [
    "from sklearn.linear_model import LogisticRegression  #importing model"
   ]
  },
  {
   "cell_type": "code",
   "execution_count": 23,
   "metadata": {
    "ExecuteTime": {
     "end_time": "2020-07-01T14:00:11.964870Z",
     "start_time": "2020-07-01T14:00:11.937981Z"
    }
   },
   "outputs": [
    {
     "data": {
      "text/plain": [
       "LogisticRegression()"
      ]
     },
     "execution_count": 23,
     "metadata": {},
     "output_type": "execute_result"
    }
   ],
   "source": [
    "lr = LogisticRegression()  #initializing the model\n",
    "lr.fit(X_train, y_train)  #fitting train data"
   ]
  },
  {
   "cell_type": "code",
   "execution_count": 24,
   "metadata": {
    "ExecuteTime": {
     "end_time": "2020-07-01T14:00:12.506928Z",
     "start_time": "2020-07-01T14:00:12.500945Z"
    }
   },
   "outputs": [],
   "source": [
    "y_pred = lr.predict(X_test)  #using predict function"
   ]
  },
  {
   "cell_type": "code",
   "execution_count": 25,
   "metadata": {
    "ExecuteTime": {
     "end_time": "2020-07-01T14:00:13.558152Z",
     "start_time": "2020-07-01T14:00:13.417091Z"
    }
   },
   "outputs": [
    {
     "name": "stdout",
     "output_type": "stream",
     "text": [
      "              precision    recall  f1-score   support\n",
      "\n",
      "           0       0.80      1.00      0.89         4\n",
      "           1       1.00      0.50      0.67         2\n",
      "\n",
      "    accuracy                           0.83         6\n",
      "   macro avg       0.90      0.75      0.78         6\n",
      "weighted avg       0.87      0.83      0.81         6\n",
      "\n"
     ]
    },
    {
     "data": {
      "image/png": "[encoded data removed]",
      "text/plain": [
       "<Figure size 432x288 with 2 Axes>"
      ]
     },
     "metadata": {
      "needs_background": "light"
     },
     "output_type": "display_data"
    }
   ],
   "source": [
    "plot_confusion_matrix(cm,class_names)   #for confusion matrix (not needed in final)\n",
    "print(classification_report(y_test,y_pred))"
   ]
  },
  {
   "cell_type": "code",
   "execution_count": 26,
   "metadata": {
    "ExecuteTime": {
     "end_time": "2020-07-01T14:00:33.208069Z",
     "start_time": "2020-07-01T14:00:33.203081Z"
    }
   },
   "outputs": [
    {
     "name": "stdout",
     "output_type": "stream",
     "text": [
      "Test Accuracy 0.8333333333333334\n"
     ]
    }
   ],
   "source": [
    "from sklearn.metrics import accuracy_score   #testing accuracy\n",
    "acc_ts=accuracy_score(y_pred, y_test)\n",
    "print('Test Accuracy',acc_ts)"
   ]
  },
  {
   "cell_type": "markdown",
   "metadata": {},
   "source": [
    "### All Models will be applied the same way"
   ]
  },
  {
   "cell_type": "markdown",
   "metadata": {},
   "source": [
    "# Decision Tree (Model 2)"
   ]
  },
  {
   "cell_type": "code",
   "execution_count": 27,
   "metadata": {
    "ExecuteTime": {
     "end_time": "2020-07-01T14:00:36.689010Z",
     "start_time": "2020-07-01T14:00:35.358568Z"
    }
   },
   "outputs": [],
   "source": [
    "from sklearn.tree import DecisionTreeClassifier, DecisionTreeRegressor"
   ]
  },
  {
   "cell_type": "markdown",
   "metadata": {},
   "source": [
    "### Classifier (2.1)"
   ]
  },
  {
   "cell_type": "code",
   "execution_count": 29,
   "metadata": {
    "ExecuteTime": {
     "end_time": "2020-07-01T14:00:42.523574Z",
     "start_time": "2020-07-01T14:00:42.520598Z"
    }
   },
   "outputs": [],
   "source": [
    "clf=DecisionTreeClassifier()"
   ]
  },
  {
   "cell_type": "code",
   "execution_count": 30,
   "metadata": {
    "ExecuteTime": {
     "end_time": "2020-07-01T14:00:43.140406Z",
     "start_time": "2020-07-01T14:00:43.078932Z"
    }
   },
   "outputs": [
    {
     "data": {
      "text/plain": [
       "DecisionTreeClassifier()"
      ]
     },
     "execution_count": 30,
     "metadata": {},
     "output_type": "execute_result"
    }
   ],
   "source": [
    "clf.fit(X_train, y_train)"
   ]
  },
  {
   "cell_type": "code",
   "execution_count": 31,
   "metadata": {
    "ExecuteTime": {
     "end_time": "2020-07-01T14:00:45.518217Z",
     "start_time": "2020-07-01T14:00:45.513227Z"
    }
   },
   "outputs": [],
   "source": [
    "y_pred=clf.predict(X_test)"
   ]
  },
  {
   "cell_type": "code",
   "execution_count": 32,
   "metadata": {
    "ExecuteTime": {
     "end_time": "2020-07-01T14:00:51.814339Z",
     "start_time": "2020-07-01T14:00:51.673064Z"
    }
   },
   "outputs": [
    {
     "name": "stdout",
     "output_type": "stream",
     "text": [
      "              precision    recall  f1-score   support\n",
      "\n",
      "           0       0.80      1.00      0.89         4\n",
      "           1       1.00      0.50      0.67         2\n",
      "\n",
      "    accuracy                           0.83         6\n",
      "   macro avg       0.90      0.75      0.78         6\n",
      "weighted avg       0.87      0.83      0.81         6\n",
      "\n"
     ]
    },
    {
     "data": {
      "image/png": "[encoded data removed]",
      "text/plain": [
       "<Figure size 432x288 with 2 Axes>"
      ]
     },
     "metadata": {
      "needs_background": "light"
     },
     "output_type": "display_data"
    }
   ],
   "source": [
    "plot_confusion_matrix(cm,class_names)\n",
    "print(classification_report(y_test,y_pred))"
   ]
  },
  {
   "cell_type": "code",
   "execution_count": 33,
   "metadata": {
    "ExecuteTime": {
     "end_time": "2020-07-01T14:00:55.888805Z",
     "start_time": "2020-07-01T14:00:55.883820Z"
    },
    "scrolled": true
   },
   "outputs": [
    {
     "name": "stdout",
     "output_type": "stream",
     "text": [
      "Test Accuracy 0.8333333333333334\n"
     ]
    }
   ],
   "source": [
    "acc_ts=accuracy_score(y_pred, y_test)\n",
    "print('Test Accuracy',acc_ts)"
   ]
  },
  {
   "cell_type": "markdown",
   "metadata": {},
   "source": [
    "### Regression (2.2)"
   ]
  },
  {
   "cell_type": "code",
   "execution_count": 41,
   "metadata": {
    "ExecuteTime": {
     "end_time": "2020-07-01T14:02:43.639839Z",
     "start_time": "2020-07-01T14:02:43.635848Z"
    }
   },
   "outputs": [],
   "source": [
    "clf = DecisionTreeRegressor()"
   ]
  },
  {
   "cell_type": "code",
   "execution_count": 42,
   "metadata": {
    "ExecuteTime": {
     "end_time": "2020-07-01T14:02:44.266716Z",
     "start_time": "2020-07-01T14:02:44.251053Z"
    }
   },
   "outputs": [
    {
     "data": {
      "text/plain": [
       "DecisionTreeRegressor()"
      ]
     },
     "execution_count": 42,
     "metadata": {},
     "output_type": "execute_result"
    }
   ],
   "source": [
    "clf.fit(X_train, y_train)"
   ]
  },
  {
   "cell_type": "code",
   "execution_count": 43,
   "metadata": {
    "ExecuteTime": {
     "end_time": "2020-07-01T14:02:44.894407Z",
     "start_time": "2020-07-01T14:02:44.890415Z"
    }
   },
   "outputs": [],
   "source": [
    "y_pred= clf.predict(X_test)"
   ]
  },
  {
   "cell_type": "code",
   "execution_count": 44,
   "metadata": {
    "ExecuteTime": {
     "end_time": "2020-07-01T14:02:45.696103Z",
     "start_time": "2020-07-01T14:02:45.545506Z"
    }
   },
   "outputs": [
    {
     "name": "stdout",
     "output_type": "stream",
     "text": [
      "              precision    recall  f1-score   support\n",
      "\n",
      "           0       0.80      1.00      0.89         4\n",
      "           1       1.00      0.50      0.67         2\n",
      "\n",
      "    accuracy                           0.83         6\n",
      "   macro avg       0.90      0.75      0.78         6\n",
      "weighted avg       0.87      0.83      0.81         6\n",
      "\n"
     ]
    },
    {
     "data": {
      "image/png": "[encoded data removed]",
      "text/plain": [
       "<Figure size 432x288 with 2 Axes>"
      ]
     },
     "metadata": {
      "needs_background": "light"
     },
     "output_type": "display_data"
    }
   ],
   "source": [
    "plot_confusion_matrix(cm,class_names)\n",
    "print(classification_report(y_test,y_pred))"
   ]
  },
  {
   "cell_type": "code",
   "execution_count": 45,
   "metadata": {
    "ExecuteTime": {
     "end_time": "2020-07-01T14:02:47.020877Z",
     "start_time": "2020-07-01T14:02:47.016635Z"
    }
   },
   "outputs": [
    {
     "name": "stdout",
     "output_type": "stream",
     "text": [
      "Test Accuracy 0.8333333333333334\n"
     ]
    }
   ],
   "source": [
    "acc_ts=accuracy_score(y_pred, y_test)\n",
    "print('Test Accuracy',acc_ts)"
   ]
  },
  {
   "cell_type": "markdown",
   "metadata": {},
   "source": [
    "#  SVM (Model 4)"
   ]
  },
  {
   "cell_type": "code",
   "execution_count": 46,
   "metadata": {
    "ExecuteTime": {
     "end_time": "2020-07-01T14:04:06.285595Z",
     "start_time": "2020-07-01T14:04:06.282638Z"
    }
   },
   "outputs": [],
   "source": [
    "from sklearn import svm"
   ]
  },
  {
   "cell_type": "code",
   "execution_count": 47,
   "metadata": {
    "ExecuteTime": {
     "end_time": "2020-07-01T14:04:06.903270Z",
     "start_time": "2020-07-01T14:04:06.857193Z"
    }
   },
   "outputs": [
    {
     "data": {
      "text/plain": [
       "SVC(kernel='linear')"
      ]
     },
     "execution_count": 47,
     "metadata": {},
     "output_type": "execute_result"
    }
   ],
   "source": [
    "clf= svm.SVC(kernel='linear')\n",
    "clf.fit(X_train,y_train)"
   ]
  },
  {
   "cell_type": "code",
   "execution_count": 48,
   "metadata": {
    "ExecuteTime": {
     "end_time": "2020-07-01T14:04:07.444769Z",
     "start_time": "2020-07-01T14:04:07.440798Z"
    }
   },
   "outputs": [],
   "source": [
    "y_pred=clf.predict(X_test)"
   ]
  },
  {
   "cell_type": "code",
   "execution_count": 50,
   "metadata": {
    "ExecuteTime": {
     "end_time": "2020-07-01T14:04:13.758966Z",
     "start_time": "2020-07-01T14:04:13.611986Z"
    }
   },
   "outputs": [
    {
     "name": "stdout",
     "output_type": "stream",
     "text": [
      "              precision    recall  f1-score   support\n",
      "\n",
      "           0       0.80      1.00      0.89         4\n",
      "           1       1.00      0.50      0.67         2\n",
      "\n",
      "    accuracy                           0.83         6\n",
      "   macro avg       0.90      0.75      0.78         6\n",
      "weighted avg       0.87      0.83      0.81         6\n",
      "\n"
     ]
    },
    {
     "data": {
      "image/png": "[encoded data removed]",
      "text/plain": [
       "<Figure size 432x288 with 2 Axes>"
      ]
     },
     "metadata": {
      "needs_background": "light"
     },
     "output_type": "display_data"
    }
   ],
   "source": [
    "plot_confusion_matrix(cm,class_names)\n",
    "print(classification_report(y_test,y_pred))"
   ]
  },
  {
   "cell_type": "code",
   "execution_count": 51,
   "metadata": {
    "ExecuteTime": {
     "end_time": "2020-07-01T14:04:19.162015Z",
     "start_time": "2020-07-01T14:04:19.157996Z"
    }
   },
   "outputs": [
    {
     "name": "stdout",
     "output_type": "stream",
     "text": [
      "TestAccuracy 0.8333333333333334\n"
     ]
    }
   ],
   "source": [
    "acc_ts=accuracy_score(y_pred, y_test)\n",
    "print('TestAccuracy',acc_ts)"
   ]
  },
  {
   "cell_type": "markdown",
   "metadata": {},
   "source": [
    "# Conclusion"
   ]
  },
  {
   "cell_type": "markdown",
   "metadata": {},
   "source": [
    "Since due to non availability of accurate data the accuracy acheived was only 83.33% even after trying differnt models"
   ]
  },
  {
   "cell_type": "code",
   "execution_count": null,
   "metadata": {},
   "outputs": [],
   "source": []
  },
  {
   "cell_type": "code",
   "execution_count": null,
   "metadata": {},
   "outputs": [],
   "source": []
  },
  {
   "cell_type": "code",
   "execution_count": null,
   "metadata": {},
   "outputs": [],
   "source": []
  }
 ],
 "metadata": {
  "kernelspec": {
   "display_name": "Python 3",
   "language": "python",
   "name": "python3"
  },
  "language_info": {
   "codemirror_mode": {
    "name": "ipython",
    "version": 3
   },
   "file_extension": ".py",
   "mimetype": "text/x-python",
   "name": "python",
   "nbconvert_exporter": "python",
   "pygments_lexer": "ipython3",
   "version": "3.7.7"
  }
 },
 "nbformat": 4,
 "nbformat_minor": 4
}
